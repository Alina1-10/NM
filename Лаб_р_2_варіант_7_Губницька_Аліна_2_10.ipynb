{
  "nbformat": 4,
  "nbformat_minor": 0,
  "metadata": {
    "colab": {
      "provenance": [],
      "include_colab_link": true
    },
    "kernelspec": {
      "name": "python3",
      "display_name": "Python 3"
    },
    "language_info": {
      "name": "python"
    }
  },
  "cells": [
    {
      "cell_type": "markdown",
      "metadata": {
        "id": "view-in-github",
        "colab_type": "text"
      },
      "source": [
        "<a href=\"https://colab.research.google.com/github/Alina1-10/NM/blob/main/%D0%9B%D0%B0%D0%B1_%D1%80_2_%D0%B2%D0%B0%D1%80%D1%96%D0%B0%D0%BD%D1%82_7_%D0%93%D1%83%D0%B1%D0%BD%D0%B8%D1%86%D1%8C%D0%BA%D0%B0_%D0%90%D0%BB%D1%96%D0%BD%D0%B0_2_10.ipynb\" target=\"_parent\"><img src=\"https://colab.research.google.com/assets/colab-badge.svg\" alt=\"Open In Colab\"/></a>"
      ]
    },
    {
      "cell_type": "markdown",
      "source": [
        "1. Метод ділення навпіл."
      ],
      "metadata": {
        "id": "VgrW9zRY0dVt"
      }
    },
    {
      "cell_type": "code",
      "execution_count": null,
      "metadata": {
        "colab": {
          "base_uri": "https://localhost:8080/"
        },
        "id": "iOTNXySVyeHy",
        "outputId": "5174695b-1ff2-41fa-a5c1-3de136fa53d3"
      },
      "outputs": [
        {
          "output_type": "stream",
          "name": "stdout",
          "text": [
            "Результати обчислень\n",
            "\n",
            "          a      F(a)         c      F(c)       b      F(b)\n",
            "0 -3.000000  0.977954 -2.000000  1.135204 -1.0000 -0.454649\n",
            "1 -2.000000  1.135204 -1.500000 -0.123480 -1.0000 -0.454649\n",
            "2 -2.000000  1.135204 -1.750000  0.405593 -1.5000 -0.123480\n",
            "3 -1.750000  0.405593 -1.625000  0.109040 -1.5000 -0.123480\n",
            "4 -1.625000  0.109040 -1.562500 -0.015587 -1.5000 -0.123480\n",
            "5 -1.625000  0.109040 -1.593750  0.044659 -1.5625 -0.015587\n",
            "6 -1.593750  0.044659 -1.578125  0.014015 -1.5625 -0.015587\n",
            "7 -1.578125  0.014015 -1.570312 -0.000917 -1.5625 -0.015587\n",
            "\n",
            "В точці с =  -1.5703125 , f(c) =  -0.0009171268569415665\n"
          ]
        }
      ],
      "source": [
        "import numpy as np\n",
        "import pandas as pd\n",
        "\n",
        "# Визначаємо функцію\n",
        "def f (x):\n",
        "    y = np.cos(x)*np.sin(x)*(x**2+x+1)\n",
        "    return y\n",
        "# Визначаємо границі відрізку\n",
        "a = -3\n",
        "b = -1\n",
        "# Визначаємо точність розв'язку\n",
        "h = 0.001\n",
        "# Поділяємо відрізок навпіл\n",
        "c = (a+b)/2\n",
        "# Зберігаємо результати обчислень\n",
        "data_A = [a]\n",
        "data_B = [b]\n",
        "data_C = [c]\n",
        "data_F_A = [f(a)]\n",
        "data_F_B = [f(b)]\n",
        "data_F_C = [f(c)]\n",
        "# Перевіряємо досягнення точності\n",
        "while abs(f(c)) > h:\n",
        "    # Звужуємо відрізок\n",
        "    if np.sign(f(c)) == np.sign(f(a)):\n",
        "        a = c\n",
        "    else:\n",
        "        b = c\n",
        "    # Поділяємо відрізок навпіл\n",
        "    c = (a+b)/2\n",
        "    # Зберігаємо результати обчислень\n",
        "    data_A.append(a)\n",
        "    data_B.append(b)\n",
        "    data_C.append(c)\n",
        "    data_F_A.append(f(a))\n",
        "    data_F_B.append(f(b))\n",
        "    data_F_C.append(f(c))\n",
        "# Відображаємо результати обчислень\n",
        "print('Результати обчислень')\n",
        "print()\n",
        "data = pd.DataFrame({'a': data_A,\n",
        "                     'F(a)': data_F_A,\n",
        "                     'c': data_C,\n",
        "                     'F(c)': data_F_C,\n",
        "                     'b': data_B,\n",
        "                     'F(b)': data_F_B})\n",
        "print(data)\n",
        "# Відображаємо наближений корінь рівняння\n",
        "print()\n",
        "print('В точці с = ', c, ', f(c) = ', f(c))"
      ]
    },
    {
      "cell_type": "markdown",
      "source": [
        "2. Метод ділення навпіл"
      ],
      "metadata": {
        "id": "5hYa7ucn0PEN"
      }
    },
    {
      "cell_type": "code",
      "source": [
        "import numpy as np\n",
        "import scipy.optimize as sp\n",
        "\n",
        "def f(x):\n",
        "    y = np.cos(x)*np.sin(x)*(x**2+x+1)\n",
        "    return y\n",
        "\n",
        "a, b = -3, -1\n",
        "tol = 1.e-3\n",
        "\n",
        "x = sp.bisect(f, a, b,(),tol) #функція для метода\n",
        "\n",
        "print('The approximate solution x is:', x)\n",
        "print('And the value f(x) is:', f(x))"
      ],
      "metadata": {
        "colab": {
          "base_uri": "https://localhost:8080/"
        },
        "id": "ML3KEw5q0H1e",
        "outputId": "99314d3a-c13e-420e-e9ae-6c063defd529"
      },
      "execution_count": null,
      "outputs": [
        {
          "output_type": "stream",
          "name": "stdout",
          "text": [
            "The approximate solution x is: -1.5712890625\n",
            "And the value f(x) is: 0.0009350448126615916\n"
          ]
        }
      ]
    },
    {
      "cell_type": "markdown",
      "source": [
        "3. Метод хорд"
      ],
      "metadata": {
        "id": "sYf0IvR41ufd"
      }
    },
    {
      "cell_type": "code",
      "source": [
        "import numpy as np\n",
        "import pandas as pd\n",
        "# Визначаємо функцію\n",
        "def f(x):\n",
        "    y = np.cos(x)*np.sin(x)*(x**2+x+1)\n",
        "    return y\n",
        "# Визначаємо межі відрізку\n",
        "a = -3\n",
        "b = -1\n",
        "# Визначаємо точність розв'язку\n",
        "h = 0.001\n",
        "# Точка, де хорда перетинає вісь 0x\n",
        "c = (f(a)*b-a*f(b))/(f(a)-f(b))\n",
        "\n",
        "# Зберігаємо результати обчислень\n",
        "data_A = [a]\n",
        "data_B = [b]\n",
        "data_C = [c]\n",
        "data_F_A = [f(a)]\n",
        "data_F_B = [f(b)]\n",
        "data_F_C = [f(c)]\n",
        "# Перевіряємо досягнення точності\n",
        "while abs(f(c)) > h:\n",
        "    # Звужуємо відрізок\n",
        "    if np.sign(f(c)) == np.sign(f(a)):\n",
        "        a = c\n",
        "    else:\n",
        "        b = c\n",
        "    # Точка, де хорда перетинає вісь 0x\n",
        "    c = (f(a)*b-a*f(b))/(f(a)-f(b))\n",
        "    # Зберігаємо результати обчислень\n",
        "    data_A.append(a)\n",
        "    data_B.append(b)\n",
        "    data_C.append(c)\n",
        "    data_F_A.append(f(a))\n",
        "    data_F_B.append(f(b))\n",
        "    data_F_C.append(f(c))\n",
        "# Відображаємо результати обчислень\n",
        "print('Результати обчислень')\n",
        "print()\n",
        "data = pd.DataFrame({'a': data_A, 'F(a)': data_F_A,\n",
        "                     'c': data_C, 'F(c)': data_F_C,\n",
        "                     'b': data_B, 'F(b)': data_F_B})\n",
        "print(data)\n",
        "# Відображаємо наближений корінь рівняння\n",
        "print()\n",
        "print('В точці с = ', c, ', f(c) = ', f(c))"
      ],
      "metadata": {
        "colab": {
          "base_uri": "https://localhost:8080/"
        },
        "id": "3p6i5xHK1y3l",
        "outputId": "fbaa0d08-b4a1-4135-af0c-fd284e71ed10"
      },
      "execution_count": null,
      "outputs": [
        {
          "output_type": "stream",
          "name": "stdout",
          "text": [
            "Результати обчислень\n",
            "\n",
            "          a      F(a)         c      F(c)         b      F(b)\n",
            "0 -3.000000  0.977954 -1.634717  0.129889 -1.000000 -0.454649\n",
            "1 -1.634717  0.129889 -1.493678 -0.133455 -1.000000 -0.454649\n",
            "2 -1.634717  0.129889 -1.565152 -0.010636 -1.493678 -0.133455\n",
            "3 -1.634717  0.129889 -1.570418 -0.000718 -1.565152 -0.010636\n",
            "\n",
            "В точці с =  -1.5704175737258015 , f(c) =  -0.0007180376446871882\n"
          ]
        }
      ]
    },
    {
      "cell_type": "markdown",
      "source": [
        "4. Метод Ньютона (дотичних)"
      ],
      "metadata": {
        "id": "40blPBSK2Cdm"
      }
    },
    {
      "cell_type": "code",
      "source": [
        "import numpy as np\n",
        "import pandas as pd\n",
        "# Визначаємо функцію\n",
        "def f(x):\n",
        "    y = np.cos(x)*np.sin(x)*(x**2+x+1)\n",
        "    return y\n",
        "# Визначаємо першу похідну\n",
        "def df(x):\n",
        "    y1 = -(x**2+x+1)*(np.sin(x))**2\n",
        "    y2 = (x**2+x+1)*(np.cos(x))**2\n",
        "    y3 = (2*x+1)*np.sin(x)*np.cos(x)\n",
        "    y = y1+y2+y3\n",
        "    return y\n",
        "# Визначаємо початкову точку\n",
        "c = -1.4\n",
        "# Визначаємо точність розв'язку\n",
        "h = 0.001\n",
        "# Зберігаємо результати обчислень\n",
        "data_C = [c]\n",
        "data_F_C = [f(c)]\n",
        "# Перевіряємо досягнення точності\n",
        "while abs(f(c)) > h:\n",
        "    # Точка, де дотична перетинає вісь 0x\n",
        "    c -= f(c)/df(c)\n",
        "    # Зберігаємо результати обчислень\n",
        "    data_C.append(c)\n",
        "    data_F_C.append(f(c))\n",
        "# Відображаємо результати обчислень\n",
        "print('Результати обчислень')\n",
        "print()\n",
        "data = pd.DataFrame({'c': data_C, 'F(c)': data_F_C})\n",
        "print(data)\n",
        "# Відображаємо наближений корінь рівняння\n",
        "print()\n",
        "print('В точці с = ', c, ', f(c) = ', f(c))"
      ],
      "metadata": {
        "colab": {
          "base_uri": "https://localhost:8080/"
        },
        "id": "WeGQjbjW2HDz",
        "outputId": "7fd55bf4-4d4c-43ea-ce09-3fbf365aa5c5"
      },
      "execution_count": null,
      "outputs": [
        {
          "output_type": "stream",
          "name": "stdout",
          "text": [
            "Результати обчислень\n",
            "\n",
            "          c      F(c)\n",
            "0 -1.400000 -0.261291\n",
            "1 -1.623636  0.106144\n",
            "2 -1.573564  0.005266\n",
            "3 -1.570805  0.000016\n",
            "\n",
            "В точці с =  -1.5708049170979717 , f(c) =  1.6292567852764437e-05\n"
          ]
        }
      ]
    },
    {
      "cell_type": "markdown",
      "source": [
        "5. Метод Ньютона (дотичних)"
      ],
      "metadata": {
        "id": "qjI38bTp0xCo"
      }
    },
    {
      "cell_type": "code",
      "source": [
        "import numpy as np\n",
        "import scipy.optimize as sp\n",
        "\n",
        "def f(x):\n",
        "    y = np.cos(x)*np.sin(x)*(x**2+x+1)\n",
        "    return y\n",
        "\n",
        "def df(x):# Обчислення похідної\n",
        "    y1 = -(x**2+x+1)*(np.sin(x))**2\n",
        "    y2 = (x**2+x+1)*(np.cos(x))**2\n",
        "    y3 = (2*x+1)*np.sin(x)*np.cos(x)\n",
        "    y = y1+y2+y3\n",
        "    return y\n",
        "\n",
        "x0 = -1.4\n",
        "x1 = 1.4\n",
        "\n",
        "x_0 = sp.newton(f, x0, df, tol=1.e-3, maxiter=50)\n",
        "x_1 = sp.newton(f, x1, df, tol=1.e-3, maxiter=50)\n",
        "\n",
        "print('The approximate solution x is:', x_0)\n",
        "print('And the value f(x_0) is:', f(x_0))\n",
        "\n",
        "print('The approximate solution x is:', x_1)\n",
        "print('And the value f(x_0) is:', f(x_1))"
      ],
      "metadata": {
        "colab": {
          "base_uri": "https://localhost:8080/"
        },
        "id": "AonZxq_H0m6-",
        "outputId": "7acab5b7-6894-4cb1-b0d3-217d498bae02"
      },
      "execution_count": null,
      "outputs": [
        {
          "output_type": "stream",
          "name": "stdout",
          "text": [
            "The approximate solution x is: -1.5707963268782201\n",
            "And the value f(x_0) is: 1.5803176499052036e-10\n",
            "The approximate solution x is: 1.5707963267958693\n",
            "And the value f(x_0) is: -4.9007361645997675e-12\n"
          ]
        }
      ]
    },
    {
      "cell_type": "markdown",
      "source": [
        " # Знаходження коренів рівняння за допомогою бібліотеки SymPy"
      ],
      "metadata": {
        "id": "pvK9N9TH1QD-"
      }
    },
    {
      "cell_type": "code",
      "source": [
        "import sympy as sym\n",
        "\n",
        "x = sym.Symbol('x')\n",
        "\n",
        "y = sym.cos(x)*sym.sin(x)*(x**2+x+1)\n",
        "\n",
        "s = sym.solve(y)\n",
        "\n",
        "print(s)"
      ],
      "metadata": {
        "colab": {
          "base_uri": "https://localhost:8080/"
        },
        "id": "PuAp1WCr08qt",
        "outputId": "36c578b1-b0b4-40d5-8142-44bf252e747d"
      },
      "execution_count": null,
      "outputs": [
        {
          "output_type": "stream",
          "name": "stdout",
          "text": [
            "[0, pi/2, pi, 3*pi/2, -1/2 - sqrt(3)*I/2, -1/2 + sqrt(3)*I/2]\n"
          ]
        }
      ]
    },
    {
      "cell_type": "code",
      "source": [
        "import sympy as sym\n",
        "\n",
        "x, a, b, c = sym.symbols('x, a, b, c')\n",
        "\n",
        "y = a * x**2 + b * x + c\n",
        "\n",
        "s = sym.solve(y, x)\n",
        "\n",
        "print(s)"
      ],
      "metadata": {
        "colab": {
          "base_uri": "https://localhost:8080/"
        },
        "id": "Y0d-uHtp1c7r",
        "outputId": "42a681c2-3c44-4db2-dbe7-7c1615e9bbe9"
      },
      "execution_count": null,
      "outputs": [
        {
          "output_type": "stream",
          "name": "stdout",
          "text": [
            "[(-b - sqrt(-4*a*c + b**2))/(2*a), (-b + sqrt(-4*a*c + b**2))/(2*a)]\n"
          ]
        }
      ]
    },
    {
      "cell_type": "markdown",
      "source": [],
      "metadata": {
        "id": "mk1oBvYj1GC2"
      }
    },
    {
      "cell_type": "code",
      "source": [
        "!pip install numdifftools"
      ],
      "metadata": {
        "colab": {
          "base_uri": "https://localhost:8080/"
        },
        "id": "yiLJNuM3Cq0-",
        "outputId": "14c5a945-897d-4244-a647-5f153aed5495"
      },
      "execution_count": 1,
      "outputs": [
        {
          "output_type": "stream",
          "name": "stdout",
          "text": [
            "Collecting numdifftools\n",
            "  Downloading numdifftools-0.9.41-py2.py3-none-any.whl.metadata (39 kB)\n",
            "Requirement already satisfied: numpy>=1.9 in /usr/local/lib/python3.12/dist-packages (from numdifftools) (2.0.2)\n",
            "Requirement already satisfied: scipy>=0.8 in /usr/local/lib/python3.12/dist-packages (from numdifftools) (1.16.1)\n",
            "Downloading numdifftools-0.9.41-py2.py3-none-any.whl (100 kB)\n",
            "\u001b[2K   \u001b[90m━━━━━━━━━━━━━━━━━━━━━━━━━━━━━━━━━━━━━━━━\u001b[0m \u001b[32m100.2/100.2 kB\u001b[0m \u001b[31m8.3 MB/s\u001b[0m eta \u001b[36m0:00:00\u001b[0m\n",
            "\u001b[?25hInstalling collected packages: numdifftools\n",
            "Successfully installed numdifftools-0.9.41\n"
          ]
        }
      ]
    },
    {
      "cell_type": "code",
      "source": [
        "#Лабораторна робота 2\n",
        "#Відокремлення коренів\n",
        "import numpy as np\n",
        "import numdifftools as nd\n",
        "\n",
        "def f(x):\n",
        "    return x**4 + 2*x**3 + 2*x**2 + 6*x - 5\n",
        "\n",
        "\n",
        "def find_segments(): #відокремлюємо корені\n",
        "    search_range = np.arange(-10, 5, 1)\n",
        "\n",
        "    a = None\n",
        "    previous_x = None\n",
        "    current_x  = None\n",
        "    segments = []\n",
        "\n",
        "    for x in search_range:\n",
        "        x = round(x, 4)\n",
        "        current_x = f(x)\n",
        "        if previous_x != None and previous_x * current_x < 0:\n",
        "            segments.append((a, x))\n",
        "        a = x\n",
        "        previous_x = current_x\n",
        "    return segments\n",
        "\n",
        "segments = find_segments()\n",
        "for a, b in segments:\n",
        "    print(f'Found segment:  [{a}, {b}]')\n"
      ],
      "metadata": {
        "colab": {
          "base_uri": "https://localhost:8080/"
        },
        "id": "L-9dn4npCso-",
        "outputId": "fc13ef72-264e-48fe-a729-91eae4b733c8"
      },
      "execution_count": 3,
      "outputs": [
        {
          "output_type": "stream",
          "name": "stdout",
          "text": [
            "Found segment:  [-3, -2]\n",
            "Found segment:  [0, 1]\n"
          ]
        }
      ]
    },
    {
      "cell_type": "code",
      "source": [
        "import numpy as np\n",
        "import matplotlib.pyplot as plt\n",
        "\n",
        "# Визначення функції\n",
        "def f(x):\n",
        "    return x**4 + 2*x**3 + 2*x**2 + 6*x - 5\n",
        "\n",
        "# Генерація значень x\n",
        "x = np.linspace(-3, 2, 100)\n",
        "\n",
        "# Генерація значень y\n",
        "y = f(x)\n",
        "\n",
        "# Побудова графіка\n",
        "plt.figure(figsize=(8, 6))\n",
        "plt.plot(x, y, label='x**4 + 2*x**3 + 2*x**2 + 6*x - 5', color='blue')\n",
        "plt.title('Графік функції x**4 + 2*x**3 + 2*x**2 + 6*x - 5')\n",
        "plt.xlabel('x')\n",
        "plt.ylabel('f(x)')\n",
        "\n",
        "# Додавання осей з стрілками\n",
        "plt.axhline(0, color='black', linewidth=0.5)\n",
        "plt.axvline(0, color='black', linewidth=0.5)\n",
        "\n",
        "plt.text(2.05, -4, 'x', ha='center', va='center')\n",
        "plt.text(-0.3, 190, 'y', ha='center', va='center')\n",
        "\n",
        "plt.grid(True)\n",
        "plt.legend()\n",
        "plt.show()\n"
      ],
      "metadata": {
        "colab": {
          "base_uri": "https://localhost:8080/",
          "height": 1000
        },
        "id": "7zUI3d1xZXar",
        "outputId": "56d527c7-1cb9-497d-857f-df2265787b64"
      },
      "execution_count": 8,
      "outputs": [
        {
          "output_type": "display_data",
          "data": {
            "text/plain": [
              "<Figure size 800x600 with 1 Axes>"
            ],
            "image/png": "[encoded data removed]"
          },
          "metadata": {}
        }
      ]
    },
    {
      "cell_type": "markdown",
      "source": [
        "![photo_5341797585523969774_y.jpg](data:image/jpeg;base64,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)"
      ],
      "metadata": {
        "id": "xvbQVxf7nGWe"
      }
    },
    {
      "cell_type": "code",
      "source": [
        "#Лабораторна робота. Метод половинного ділення, хорд\n",
        "\n",
        "\n",
        "def rec(a, b, eps):  # метод половинного ділення\n",
        "    while (abs(a - b) > eps):\n",
        "        if f(a) * f((a + b) / 2) < 0:\n",
        "            b = (a + b) / 2\n",
        "        else:\n",
        "            a = (a + b) / 2\n",
        "        x = (a + b) / 2\n",
        "\n",
        "    print('x= ', round(x, 5), '  -   Half division method')\n"
      ],
      "metadata": {
        "id": "BgjK94O9Cfxe"
      },
      "execution_count": 11,
      "outputs": []
    },
    {
      "cell_type": "code",
      "source": [
        "def hord(a, b, eps):  # метод хорд\n",
        "    derivative_f = nd.Derivative(f, n=1)\n",
        "    if f(a) * derivative_f(a) > 0:\n",
        "        x0 = a\n",
        "        xi = b\n",
        "    else:\n",
        "        x0 = b\n",
        "        xi = a\n",
        "    xi_1 = xi - (xi - x0) * f(xi) / (f(xi) - f(x0))\n",
        "    while (abs(xi_1 - xi) > eps):\n",
        "        xi = xi_1\n",
        "        xi_1 = xi - (xi - x0) * f(xi) / (f(xi) - f(x0))\n",
        "    print('x= ', round(xi_1, 5), '  -   Chord method')\n"
      ],
      "metadata": {
        "id": "Sz_KWVf7D2tL"
      },
      "execution_count": 12,
      "outputs": []
    },
    {
      "cell_type": "code",
      "source": [
        "if __name__ == \"__main__\":\n",
        "    a1, b1 = -3, -2\n",
        "    a2, b2 = 0, 1\n",
        "    eps = 0.0001\n",
        "    print(\"Розв'язки на відрізку [-3,-2]\")\n",
        "    rec(a1, b1, eps)\n",
        "    hord(a1, b1, eps)\n",
        "    print(\"\\n Розв'язки на відрізку [0,1]\")\n",
        "    rec(a2, b2, eps)\n",
        "    hord(a2, b2, eps)"
      ],
      "metadata": {
        "id": "upx7R4yoFZj_",
        "outputId": "bc6b4c12-e6f1-427e-9782-2d3517aca1c0",
        "colab": {
          "base_uri": "https://localhost:8080/"
        }
      },
      "execution_count": 16,
      "outputs": [
        {
          "output_type": "stream",
          "name": "stdout",
          "text": [
            "Розв'язки на відрізку [-3,-2]\n",
            "x=  -2.48911   -   Half division method\n",
            "x=  -2.48915   -   Chord method\n",
            "\n",
            " Розв'язки на відрізку [0,1]\n",
            "x=  0.61032   -   Half division method\n",
            "x=  0.61028   -   Chord method\n"
          ]
        }
      ]
    }
  ]
}